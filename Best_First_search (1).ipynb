{
  "nbformat": 4,
  "nbformat_minor": 0,
  "metadata": {
    "colab": {
      "name": "Best_First_search.ipynb",
      "provenance": []
    },
    "kernelspec": {
      "name": "python3",
      "display_name": "Python 3"
    },
    "language_info": {
      "name": "python"
    }
  },
  "cells": [
    {
      "cell_type": "code",
      "metadata": {
        "colab": {
          "base_uri": "https://localhost:8080/"
        },
        "id": "YJ12sG4P92gx",
        "outputId": "add8b5d5-0122-41de-cc14-6553b466f48a"
      },
      "source": [
        "from queue import PriorityQueue\n",
        "v = 5\n",
        "graph = [[] for i in range(v)]\n",
        "def best_first_search(source, target, n):\n",
        "  visited = [0] * n\n",
        "  visited[0] = True\n",
        "  pq = PriorityQueue()\n",
        "  pq.put((0, source))\n",
        "  while pq.empty() == False:\n",
        "    u = pq.get()[1]\n",
        "    print(u, end=\" \")\n",
        "    if u == target:\n",
        "      break\n",
        "    for v, c in graph[u]:\n",
        "      if visited[v] == False:\n",
        "        visited[v] = True\n",
        "        pq.put((c, v))\n",
        "  print()\n",
        "def addedge(x, y, cost):\n",
        "  graph[x].append((y, cost))\n",
        "  graph[y].append((x, cost))\n",
        "addedge(0, 1, 5)\n",
        "addedge(0, 2, 1)\n",
        "addedge(2, 3, 2)\n",
        "addedge(1, 4, 1)\n",
        "addedge(3, 4, 2)\n",
        "source = 0\n",
        "target = 4\n",
        "best_first_search(source, target, v)"
      ],
      "execution_count": 19,
      "outputs": [
        {
          "output_type": "stream",
          "text": [
            "0 2 3 4 \n"
          ],
          "name": "stdout"
        }
      ]
    },
    {
      "cell_type": "code",
      "metadata": {
        "id": "CiXr-DVs_ujY"
      },
      "source": [
        ""
      ],
      "execution_count": null,
      "outputs": []
    }
  ]
}