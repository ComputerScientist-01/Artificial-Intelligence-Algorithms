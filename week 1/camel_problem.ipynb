{
  "nbformat": 4,
  "nbformat_minor": 0,
  "metadata": {
    "colab": {
      "name": "camel-problem.ipynb",
      "provenance": []
    },
    "kernelspec": {
      "name": "python3",
      "display_name": "Python 3"
    },
    "language_info": {
      "name": "python"
    }
  },
  "cells": [
    {
      "cell_type": "code",
      "metadata": {
        "colab": {
          "base_uri": "https://localhost:8080/"
        },
        "id": "YJ12sG4P92gx",
        "outputId": "f35edf1f-d773-4936-f146-3dbf3a450940"
      },
      "source": [
        "total=int(input('Enter no. of bananas at starting: '))\n",
        "distance=int(input('Enter distance you want to cover: '))\n",
        "load_capacity=int(input('Enter max load capacity of your camel: '))\n",
        "lose=0\n",
        "start=total\n",
        "for i in range(distance):\n",
        "    while start>0:\n",
        "        start=start-load_capacity\n",
        "\n",
        "        if start==1:\n",
        "            lose=lose-1\n",
        "        lose=lose+2\n",
        "\n",
        "    lose=lose-1\n",
        "    start=total-lose\n",
        "    if start==0:\n",
        "        break\n",
        "print(start)"
      ],
      "execution_count": 12,
      "outputs": [
        {
          "output_type": "stream",
          "text": [
            "Enter no. of bananas at starting: 3000\n",
            "Enter distance you want to cover: 1000\n",
            "Enter max load capacity of your camel: 1000\n",
            "533\n"
          ],
          "name": "stdout"
        }
      ]
    },
    {
      "cell_type": "code",
      "metadata": {
        "id": "vK27DogE_EI-"
      },
      "source": [
        ""
      ],
      "execution_count": null,
      "outputs": []
    }
  ]
}