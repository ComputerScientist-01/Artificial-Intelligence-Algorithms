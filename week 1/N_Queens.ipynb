{
  "nbformat": 4,
  "nbformat_minor": 0,
  "metadata": {
    "colab": {
      "name": "N-Queens.ipynb",
      "provenance": []
    },
    "kernelspec": {
      "name": "python3",
      "display_name": "Python 3"
    },
    "language_info": {
      "name": "python"
    }
  },
  "cells": [
    {
      "cell_type": "code",
      "metadata": {
        "colab": {
          "base_uri": "https://localhost:8080/"
        },
        "id": "YJ12sG4P92gx",
        "outputId": "beb2de20-a81e-4820-a072-05d04977f00f"
      },
      "source": [
        "global N \n",
        "N = int(input(\"Enter Number Of Queens: \"))\n",
        "  \n",
        "def printSolution(board): \n",
        "    for i in range(N): \n",
        "        for j in range(N): \n",
        "            print (board[i][j], end = \" \") \n",
        "        print()\n",
        "  "
      ],
      "execution_count": 3,
      "outputs": [
        {
          "output_type": "stream",
          "text": [
            "Enter Number Of Queens: 5\n"
          ],
          "name": "stdout"
        }
      ]
    },
    {
      "cell_type": "code",
      "metadata": {
        "id": "a71qi5KI9_k-"
      },
      "source": [
        "def isSafe(board, row, col):   \n",
        "    for i in range(col): \n",
        "        if board[row][i] == 1: \n",
        "            return False  \n",
        "    for i, j in zip(range(row, -1, -1),  \n",
        "                    range(col, -1, -1)): \n",
        "        if board[i][j] == 1: \n",
        "            return False\n",
        "  \n",
        "    for i, j in zip(range(row, N, 1),  \n",
        "                    range(col, -1, -1)): \n",
        "        if board[i][j] == 1: \n",
        "            return False  \n",
        "    return True"
      ],
      "execution_count": 4,
      "outputs": []
    },
    {
      "cell_type": "code",
      "metadata": {
        "id": "7ustKOIP-CqJ"
      },
      "source": [
        "def solveNQUtil(board, col): \n",
        "      \n",
        "    if col >= N: \n",
        "        return True\n",
        "  \n",
        "    for i in range(N): \n",
        "  \n",
        "        if isSafe(board, i, col):               \n",
        "            board[i][col] = 1\n",
        "  \n",
        "            if solveNQUtil(board, col + 1) == True: \n",
        "                return True\n",
        "  \n",
        "            board[i][col] = 0\n",
        "\n",
        "    return False\n"
      ],
      "execution_count": 5,
      "outputs": []
    },
    {
      "cell_type": "code",
      "metadata": {
        "colab": {
          "base_uri": "https://localhost:8080/"
        },
        "id": "pbgh7w3R-W3K",
        "outputId": "ebcb835f-0b61-466c-daeb-5abfb126e082"
      },
      "source": [
        "board = [[0] * N for i in range(N)]\n",
        "board"
      ],
      "execution_count": 6,
      "outputs": [
        {
          "output_type": "execute_result",
          "data": {
            "text/plain": [
              "[[0, 0, 0, 0, 0],\n",
              " [0, 0, 0, 0, 0],\n",
              " [0, 0, 0, 0, 0],\n",
              " [0, 0, 0, 0, 0],\n",
              " [0, 0, 0, 0, 0]]"
            ]
          },
          "metadata": {
            "tags": []
          },
          "execution_count": 6
        }
      ]
    },
    {
      "cell_type": "code",
      "metadata": {
        "id": "W-flfPjm-ZND"
      },
      "source": [
        "def solveNQ(): \n",
        "    if solveNQUtil(board, 0) == False: \n",
        "        print (\"Solution does not exist\") \n",
        "        return False\n",
        "  \n",
        "    printSolution(board) \n",
        "    return True "
      ],
      "execution_count": 7,
      "outputs": []
    },
    {
      "cell_type": "code",
      "metadata": {
        "colab": {
          "base_uri": "https://localhost:8080/"
        },
        "id": "gmklAzcL-bpd",
        "outputId": "30ce2fb8-56fc-4a06-e14e-cb6b959821b5"
      },
      "source": [
        "solveNQ()"
      ],
      "execution_count": 8,
      "outputs": [
        {
          "output_type": "stream",
          "text": [
            "1 0 0 0 0 \n",
            "0 0 0 1 0 \n",
            "0 1 0 0 0 \n",
            "0 0 0 0 1 \n",
            "0 0 1 0 0 \n"
          ],
          "name": "stdout"
        },
        {
          "output_type": "execute_result",
          "data": {
            "text/plain": [
              "True"
            ]
          },
          "metadata": {
            "tags": []
          },
          "execution_count": 8
        }
      ]
    },
    {
      "cell_type": "code",
      "metadata": {
        "id": "Op_wZ4BP-dri"
      },
      "source": [
        ""
      ],
      "execution_count": null,
      "outputs": []
    }
  ]
}