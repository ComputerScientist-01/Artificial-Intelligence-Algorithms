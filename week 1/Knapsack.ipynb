{
  "nbformat": 4,
  "nbformat_minor": 0,
  "metadata": {
    "colab": {
      "name": "Knapsack.ipynb",
      "provenance": []
    },
    "kernelspec": {
      "name": "python3",
      "display_name": "Python 3"
    },
    "language_info": {
      "name": "python"
    }
  },
  "cells": [
    {
      "cell_type": "code",
      "metadata": {
        "id": "YJ12sG4P92gx"
      },
      "source": [
        "def knapSack(W, wt, val, n): \n",
        "  \n",
        "    if n == 0 or W == 0 : \n",
        "        return 0\n",
        "  \n",
        "     \n",
        "    if (wt[n-1] > W): \n",
        "        return knapSack(W, wt, val, n-1) \n",
        "   \n",
        "    else: \n",
        "        return max(val[n-1] + knapSack(W-wt[n-1], wt, val, n-1), \n",
        "                   knapSack(W, wt, val, n-1))"
      ],
      "execution_count": 10,
      "outputs": []
    },
    {
      "cell_type": "code",
      "metadata": {
        "colab": {
          "base_uri": "https://localhost:8080/"
        },
        "id": "a71qi5KI9_k-",
        "outputId": "18e57be7-d04f-4bfa-b0d6-ceef81faa06c"
      },
      "source": [
        "val = [60, 100, 120] \n",
        "wt = [10, 20, 30] \n",
        "W = 50\n",
        "n = len(val) \n",
        "print(knapSack(W, wt, val, n))"
      ],
      "execution_count": 11,
      "outputs": [
        {
          "output_type": "stream",
          "text": [
            "220\n"
          ],
          "name": "stdout"
        }
      ]
    }
  ]
}